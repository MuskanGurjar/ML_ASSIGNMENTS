{
 "cells": [
  {
   "cell_type": "markdown",
   "metadata": {},
   "source": [
    "The study of students with engineering disciplines where the dataset contains the employment outcomes of Engineering graduates"
   ]
  },
  {
   "cell_type": "code",
   "execution_count": 2,
   "metadata": {},
   "outputs": [],
   "source": [
    "import pandas as pd\n",
    "import numpy as np\n",
    "import seaborn as sbn\n",
    "import matplotlib.pyplot as plt"
   ]
  },
  {
   "cell_type": "code",
   "execution_count": 3,
   "metadata": {},
   "outputs": [],
   "source": [
    "minds = pd.read_excel('asminds.xlsx')"
   ]
  },
  {
   "cell_type": "code",
   "execution_count": 14,
   "metadata": {},
   "outputs": [
    {
     "data": {
      "text/plain": [
       "(3998, 39)"
      ]
     },
     "execution_count": 14,
     "metadata": {},
     "output_type": "execute_result"
    }
   ],
   "source": [
    "\n",
    "minds.shape"
   ]
  },
  {
   "cell_type": "code",
   "execution_count": 16,
   "metadata": {},
   "outputs": [
    {
     "name": "stdout",
     "output_type": "stream",
     "text": [
      "<class 'pandas.core.frame.DataFrame'>\n",
      "RangeIndex: 3998 entries, 0 to 3997\n",
      "Data columns (total 39 columns):\n",
      " #   Column                 Non-Null Count  Dtype         \n",
      "---  ------                 --------------  -----         \n",
      " 0   Unnamed: 0             3998 non-null   object        \n",
      " 1   ID                     3998 non-null   int64         \n",
      " 2   Salary                 3998 non-null   int64         \n",
      " 3   DOJ                    3998 non-null   datetime64[ns]\n",
      " 4   DOL                    3998 non-null   object        \n",
      " 5   Designation            3998 non-null   object        \n",
      " 6   JobCity                3998 non-null   object        \n",
      " 7   Gender                 3998 non-null   object        \n",
      " 8   DOB                    3998 non-null   datetime64[ns]\n",
      " 9   10percentage           3998 non-null   float64       \n",
      " 10  10board                3998 non-null   object        \n",
      " 11  12graduation           3998 non-null   int64         \n",
      " 12  12percentage           3998 non-null   float64       \n",
      " 13  12board                3998 non-null   object        \n",
      " 14  CollegeID              3998 non-null   int64         \n",
      " 15  CollegeTier            3998 non-null   int64         \n",
      " 16  Degree                 3998 non-null   object        \n",
      " 17  Specialization         3998 non-null   object        \n",
      " 18  collegeGPA             3998 non-null   float64       \n",
      " 19  CollegeCityID          3998 non-null   int64         \n",
      " 20  CollegeCityTier        3998 non-null   int64         \n",
      " 21  CollegeState           3998 non-null   object        \n",
      " 22  GraduationYear         3998 non-null   int64         \n",
      " 23  English                3998 non-null   int64         \n",
      " 24  Logical                3998 non-null   int64         \n",
      " 25  Quant                  3998 non-null   int64         \n",
      " 26  Domain                 3998 non-null   float64       \n",
      " 27  ComputerProgramming    3998 non-null   int64         \n",
      " 28  ElectronicsAndSemicon  3998 non-null   int64         \n",
      " 29  ComputerScience        3998 non-null   int64         \n",
      " 30  MechanicalEngg         3998 non-null   int64         \n",
      " 31  ElectricalEngg         3998 non-null   int64         \n",
      " 32  TelecomEngg            3998 non-null   int64         \n",
      " 33  CivilEngg              3998 non-null   int64         \n",
      " 34  conscientiousness      3998 non-null   float64       \n",
      " 35  agreeableness          3998 non-null   float64       \n",
      " 36  extraversion           3998 non-null   float64       \n",
      " 37  nueroticism            3998 non-null   float64       \n",
      " 38  openess_to_experience  3998 non-null   float64       \n",
      "dtypes: datetime64[ns](2), float64(9), int64(18), object(10)\n",
      "memory usage: 1.2+ MB\n"
     ]
    }
   ],
   "source": [
    "minds.info()"
   ]
  },
  {
   "cell_type": "code",
   "execution_count": 31,
   "metadata": {},
   "outputs": [
    {
     "data": {
      "text/html": [
       "<div>\n",
       "<style scoped>\n",
       "    .dataframe tbody tr th:only-of-type {\n",
       "        vertical-align: middle;\n",
       "    }\n",
       "\n",
       "    .dataframe tbody tr th {\n",
       "        vertical-align: top;\n",
       "    }\n",
       "\n",
       "    .dataframe thead th {\n",
       "        text-align: right;\n",
       "    }\n",
       "</style>\n",
       "<table border=\"1\" class=\"dataframe\">\n",
       "  <thead>\n",
       "    <tr style=\"text-align: right;\">\n",
       "      <th></th>\n",
       "      <th>Unnamed: 0</th>\n",
       "      <th>ID</th>\n",
       "      <th>Salary</th>\n",
       "      <th>DOJ</th>\n",
       "      <th>DOL</th>\n",
       "      <th>Designation</th>\n",
       "      <th>JobCity</th>\n",
       "      <th>Gender</th>\n",
       "      <th>DOB</th>\n",
       "      <th>10percentage</th>\n",
       "      <th>...</th>\n",
       "      <th>ComputerScience</th>\n",
       "      <th>MechanicalEngg</th>\n",
       "      <th>ElectricalEngg</th>\n",
       "      <th>TelecomEngg</th>\n",
       "      <th>CivilEngg</th>\n",
       "      <th>conscientiousness</th>\n",
       "      <th>agreeableness</th>\n",
       "      <th>extraversion</th>\n",
       "      <th>nueroticism</th>\n",
       "      <th>openess_to_experience</th>\n",
       "    </tr>\n",
       "  </thead>\n",
       "  <tbody>\n",
       "    <tr>\n",
       "      <th>0</th>\n",
       "      <td>train</td>\n",
       "      <td>203097</td>\n",
       "      <td>420000</td>\n",
       "      <td>2012-06-01</td>\n",
       "      <td>present</td>\n",
       "      <td>senior quality engineer</td>\n",
       "      <td>Bangalore</td>\n",
       "      <td>f</td>\n",
       "      <td>1990-02-19</td>\n",
       "      <td>84.3</td>\n",
       "      <td>...</td>\n",
       "      <td>-1</td>\n",
       "      <td>-1</td>\n",
       "      <td>-1</td>\n",
       "      <td>-1</td>\n",
       "      <td>-1</td>\n",
       "      <td>0.9737</td>\n",
       "      <td>0.8128</td>\n",
       "      <td>0.5269</td>\n",
       "      <td>1.35490</td>\n",
       "      <td>-0.4455</td>\n",
       "    </tr>\n",
       "    <tr>\n",
       "      <th>1</th>\n",
       "      <td>train</td>\n",
       "      <td>579905</td>\n",
       "      <td>500000</td>\n",
       "      <td>2013-09-01</td>\n",
       "      <td>present</td>\n",
       "      <td>assistant manager</td>\n",
       "      <td>Indore</td>\n",
       "      <td>m</td>\n",
       "      <td>1989-10-04</td>\n",
       "      <td>85.4</td>\n",
       "      <td>...</td>\n",
       "      <td>-1</td>\n",
       "      <td>-1</td>\n",
       "      <td>-1</td>\n",
       "      <td>-1</td>\n",
       "      <td>-1</td>\n",
       "      <td>-0.7335</td>\n",
       "      <td>0.3789</td>\n",
       "      <td>1.2396</td>\n",
       "      <td>-0.10760</td>\n",
       "      <td>0.8637</td>\n",
       "    </tr>\n",
       "    <tr>\n",
       "      <th>2</th>\n",
       "      <td>train</td>\n",
       "      <td>810601</td>\n",
       "      <td>325000</td>\n",
       "      <td>2014-06-01</td>\n",
       "      <td>present</td>\n",
       "      <td>systems engineer</td>\n",
       "      <td>Chennai</td>\n",
       "      <td>f</td>\n",
       "      <td>1992-08-03</td>\n",
       "      <td>85.0</td>\n",
       "      <td>...</td>\n",
       "      <td>-1</td>\n",
       "      <td>-1</td>\n",
       "      <td>-1</td>\n",
       "      <td>-1</td>\n",
       "      <td>-1</td>\n",
       "      <td>0.2718</td>\n",
       "      <td>1.7109</td>\n",
       "      <td>0.1637</td>\n",
       "      <td>-0.86820</td>\n",
       "      <td>0.6721</td>\n",
       "    </tr>\n",
       "    <tr>\n",
       "      <th>3</th>\n",
       "      <td>train</td>\n",
       "      <td>267447</td>\n",
       "      <td>1100000</td>\n",
       "      <td>2011-07-01</td>\n",
       "      <td>present</td>\n",
       "      <td>senior software engineer</td>\n",
       "      <td>Gurgaon</td>\n",
       "      <td>m</td>\n",
       "      <td>1989-12-05</td>\n",
       "      <td>85.6</td>\n",
       "      <td>...</td>\n",
       "      <td>-1</td>\n",
       "      <td>-1</td>\n",
       "      <td>-1</td>\n",
       "      <td>-1</td>\n",
       "      <td>-1</td>\n",
       "      <td>0.0464</td>\n",
       "      <td>0.3448</td>\n",
       "      <td>-0.3440</td>\n",
       "      <td>-0.40780</td>\n",
       "      <td>-0.9194</td>\n",
       "    </tr>\n",
       "    <tr>\n",
       "      <th>4</th>\n",
       "      <td>train</td>\n",
       "      <td>343523</td>\n",
       "      <td>200000</td>\n",
       "      <td>2014-03-01</td>\n",
       "      <td>2015-03-01 00:00:00</td>\n",
       "      <td>get</td>\n",
       "      <td>Manesar</td>\n",
       "      <td>m</td>\n",
       "      <td>1991-02-27</td>\n",
       "      <td>78.0</td>\n",
       "      <td>...</td>\n",
       "      <td>-1</td>\n",
       "      <td>-1</td>\n",
       "      <td>-1</td>\n",
       "      <td>-1</td>\n",
       "      <td>-1</td>\n",
       "      <td>-0.8810</td>\n",
       "      <td>-0.2793</td>\n",
       "      <td>-1.0697</td>\n",
       "      <td>0.09163</td>\n",
       "      <td>-0.1295</td>\n",
       "    </tr>\n",
       "  </tbody>\n",
       "</table>\n",
       "<p>5 rows × 39 columns</p>\n",
       "</div>"
      ],
      "text/plain": [
       "  Unnamed: 0      ID   Salary        DOJ                  DOL  \\\n",
       "0      train  203097   420000 2012-06-01              present   \n",
       "1      train  579905   500000 2013-09-01              present   \n",
       "2      train  810601   325000 2014-06-01              present   \n",
       "3      train  267447  1100000 2011-07-01              present   \n",
       "4      train  343523   200000 2014-03-01  2015-03-01 00:00:00   \n",
       "\n",
       "                Designation    JobCity Gender        DOB  10percentage  ...  \\\n",
       "0   senior quality engineer  Bangalore      f 1990-02-19          84.3  ...   \n",
       "1         assistant manager     Indore      m 1989-10-04          85.4  ...   \n",
       "2          systems engineer    Chennai      f 1992-08-03          85.0  ...   \n",
       "3  senior software engineer    Gurgaon      m 1989-12-05          85.6  ...   \n",
       "4                       get    Manesar      m 1991-02-27          78.0  ...   \n",
       "\n",
       "  ComputerScience  MechanicalEngg  ElectricalEngg TelecomEngg  CivilEngg  \\\n",
       "0              -1              -1              -1          -1         -1   \n",
       "1              -1              -1              -1          -1         -1   \n",
       "2              -1              -1              -1          -1         -1   \n",
       "3              -1              -1              -1          -1         -1   \n",
       "4              -1              -1              -1          -1         -1   \n",
       "\n",
       "   conscientiousness agreeableness extraversion  nueroticism  \\\n",
       "0             0.9737        0.8128       0.5269      1.35490   \n",
       "1            -0.7335        0.3789       1.2396     -0.10760   \n",
       "2             0.2718        1.7109       0.1637     -0.86820   \n",
       "3             0.0464        0.3448      -0.3440     -0.40780   \n",
       "4            -0.8810       -0.2793      -1.0697      0.09163   \n",
       "\n",
       "   openess_to_experience  \n",
       "0                -0.4455  \n",
       "1                 0.8637  \n",
       "2                 0.6721  \n",
       "3                -0.9194  \n",
       "4                -0.1295  \n",
       "\n",
       "[5 rows x 39 columns]"
      ]
     },
     "execution_count": 31,
     "metadata": {},
     "output_type": "execute_result"
    }
   ],
   "source": [
    "minds.head()"
   ]
  },
  {
   "cell_type": "code",
   "execution_count": 13,
   "metadata": {},
   "outputs": [
    {
     "data": {
      "text/html": [
       "<div>\n",
       "<style scoped>\n",
       "    .dataframe tbody tr th:only-of-type {\n",
       "        vertical-align: middle;\n",
       "    }\n",
       "\n",
       "    .dataframe tbody tr th {\n",
       "        vertical-align: top;\n",
       "    }\n",
       "\n",
       "    .dataframe thead th {\n",
       "        text-align: right;\n",
       "    }\n",
       "</style>\n",
       "<table border=\"1\" class=\"dataframe\">\n",
       "  <thead>\n",
       "    <tr style=\"text-align: right;\">\n",
       "      <th></th>\n",
       "      <th>ID</th>\n",
       "      <th>Salary</th>\n",
       "      <th>12graduation</th>\n",
       "      <th>CollegeID</th>\n",
       "      <th>CollegeTier</th>\n",
       "      <th>CollegeCityID</th>\n",
       "      <th>CollegeCityTier</th>\n",
       "      <th>GraduationYear</th>\n",
       "      <th>English</th>\n",
       "      <th>Logical</th>\n",
       "      <th>Quant</th>\n",
       "      <th>ComputerProgramming</th>\n",
       "      <th>ElectronicsAndSemicon</th>\n",
       "      <th>ComputerScience</th>\n",
       "      <th>MechanicalEngg</th>\n",
       "      <th>ElectricalEngg</th>\n",
       "      <th>TelecomEngg</th>\n",
       "      <th>CivilEngg</th>\n",
       "    </tr>\n",
       "  </thead>\n",
       "  <tbody>\n",
       "    <tr>\n",
       "      <th>count</th>\n",
       "      <td>3.998000e+03</td>\n",
       "      <td>3.998000e+03</td>\n",
       "      <td>3998.000000</td>\n",
       "      <td>3998.000000</td>\n",
       "      <td>3998.000000</td>\n",
       "      <td>3998.000000</td>\n",
       "      <td>3998.000000</td>\n",
       "      <td>3998.000000</td>\n",
       "      <td>3998.000000</td>\n",
       "      <td>3998.000000</td>\n",
       "      <td>3998.000000</td>\n",
       "      <td>3998.000000</td>\n",
       "      <td>3998.000000</td>\n",
       "      <td>3998.000000</td>\n",
       "      <td>3998.000000</td>\n",
       "      <td>3998.000000</td>\n",
       "      <td>3998.000000</td>\n",
       "      <td>3998.000000</td>\n",
       "    </tr>\n",
       "    <tr>\n",
       "      <th>mean</th>\n",
       "      <td>6.637945e+05</td>\n",
       "      <td>3.076998e+05</td>\n",
       "      <td>2008.087544</td>\n",
       "      <td>5156.851426</td>\n",
       "      <td>1.925713</td>\n",
       "      <td>5156.851426</td>\n",
       "      <td>0.300400</td>\n",
       "      <td>2012.105803</td>\n",
       "      <td>501.649075</td>\n",
       "      <td>501.598799</td>\n",
       "      <td>513.378189</td>\n",
       "      <td>353.102801</td>\n",
       "      <td>95.328414</td>\n",
       "      <td>90.742371</td>\n",
       "      <td>22.974737</td>\n",
       "      <td>16.478739</td>\n",
       "      <td>31.851176</td>\n",
       "      <td>2.683842</td>\n",
       "    </tr>\n",
       "    <tr>\n",
       "      <th>std</th>\n",
       "      <td>3.632182e+05</td>\n",
       "      <td>2.127375e+05</td>\n",
       "      <td>1.653599</td>\n",
       "      <td>4802.261482</td>\n",
       "      <td>0.262270</td>\n",
       "      <td>4802.261482</td>\n",
       "      <td>0.458489</td>\n",
       "      <td>31.857271</td>\n",
       "      <td>104.940021</td>\n",
       "      <td>86.783297</td>\n",
       "      <td>122.302332</td>\n",
       "      <td>205.355519</td>\n",
       "      <td>158.241218</td>\n",
       "      <td>175.273083</td>\n",
       "      <td>98.123311</td>\n",
       "      <td>87.585634</td>\n",
       "      <td>104.852845</td>\n",
       "      <td>36.658505</td>\n",
       "    </tr>\n",
       "    <tr>\n",
       "      <th>min</th>\n",
       "      <td>1.124400e+04</td>\n",
       "      <td>3.500000e+04</td>\n",
       "      <td>1995.000000</td>\n",
       "      <td>2.000000</td>\n",
       "      <td>1.000000</td>\n",
       "      <td>2.000000</td>\n",
       "      <td>0.000000</td>\n",
       "      <td>0.000000</td>\n",
       "      <td>180.000000</td>\n",
       "      <td>195.000000</td>\n",
       "      <td>120.000000</td>\n",
       "      <td>-1.000000</td>\n",
       "      <td>-1.000000</td>\n",
       "      <td>-1.000000</td>\n",
       "      <td>-1.000000</td>\n",
       "      <td>-1.000000</td>\n",
       "      <td>-1.000000</td>\n",
       "      <td>-1.000000</td>\n",
       "    </tr>\n",
       "    <tr>\n",
       "      <th>25%</th>\n",
       "      <td>3.342842e+05</td>\n",
       "      <td>1.800000e+05</td>\n",
       "      <td>2007.000000</td>\n",
       "      <td>494.000000</td>\n",
       "      <td>2.000000</td>\n",
       "      <td>494.000000</td>\n",
       "      <td>0.000000</td>\n",
       "      <td>2012.000000</td>\n",
       "      <td>425.000000</td>\n",
       "      <td>445.000000</td>\n",
       "      <td>430.000000</td>\n",
       "      <td>295.000000</td>\n",
       "      <td>-1.000000</td>\n",
       "      <td>-1.000000</td>\n",
       "      <td>-1.000000</td>\n",
       "      <td>-1.000000</td>\n",
       "      <td>-1.000000</td>\n",
       "      <td>-1.000000</td>\n",
       "    </tr>\n",
       "    <tr>\n",
       "      <th>50%</th>\n",
       "      <td>6.396000e+05</td>\n",
       "      <td>3.000000e+05</td>\n",
       "      <td>2008.000000</td>\n",
       "      <td>3879.000000</td>\n",
       "      <td>2.000000</td>\n",
       "      <td>3879.000000</td>\n",
       "      <td>0.000000</td>\n",
       "      <td>2013.000000</td>\n",
       "      <td>500.000000</td>\n",
       "      <td>505.000000</td>\n",
       "      <td>515.000000</td>\n",
       "      <td>415.000000</td>\n",
       "      <td>-1.000000</td>\n",
       "      <td>-1.000000</td>\n",
       "      <td>-1.000000</td>\n",
       "      <td>-1.000000</td>\n",
       "      <td>-1.000000</td>\n",
       "      <td>-1.000000</td>\n",
       "    </tr>\n",
       "    <tr>\n",
       "      <th>75%</th>\n",
       "      <td>9.904800e+05</td>\n",
       "      <td>3.700000e+05</td>\n",
       "      <td>2009.000000</td>\n",
       "      <td>8818.000000</td>\n",
       "      <td>2.000000</td>\n",
       "      <td>8818.000000</td>\n",
       "      <td>1.000000</td>\n",
       "      <td>2014.000000</td>\n",
       "      <td>570.000000</td>\n",
       "      <td>565.000000</td>\n",
       "      <td>595.000000</td>\n",
       "      <td>495.000000</td>\n",
       "      <td>233.000000</td>\n",
       "      <td>-1.000000</td>\n",
       "      <td>-1.000000</td>\n",
       "      <td>-1.000000</td>\n",
       "      <td>-1.000000</td>\n",
       "      <td>-1.000000</td>\n",
       "    </tr>\n",
       "    <tr>\n",
       "      <th>max</th>\n",
       "      <td>1.298275e+06</td>\n",
       "      <td>4.000000e+06</td>\n",
       "      <td>2013.000000</td>\n",
       "      <td>18409.000000</td>\n",
       "      <td>2.000000</td>\n",
       "      <td>18409.000000</td>\n",
       "      <td>1.000000</td>\n",
       "      <td>2017.000000</td>\n",
       "      <td>875.000000</td>\n",
       "      <td>795.000000</td>\n",
       "      <td>900.000000</td>\n",
       "      <td>840.000000</td>\n",
       "      <td>612.000000</td>\n",
       "      <td>715.000000</td>\n",
       "      <td>623.000000</td>\n",
       "      <td>676.000000</td>\n",
       "      <td>548.000000</td>\n",
       "      <td>516.000000</td>\n",
       "    </tr>\n",
       "  </tbody>\n",
       "</table>\n",
       "</div>"
      ],
      "text/plain": [
       "                 ID        Salary  12graduation     CollegeID  CollegeTier  \\\n",
       "count  3.998000e+03  3.998000e+03   3998.000000   3998.000000  3998.000000   \n",
       "mean   6.637945e+05  3.076998e+05   2008.087544   5156.851426     1.925713   \n",
       "std    3.632182e+05  2.127375e+05      1.653599   4802.261482     0.262270   \n",
       "min    1.124400e+04  3.500000e+04   1995.000000      2.000000     1.000000   \n",
       "25%    3.342842e+05  1.800000e+05   2007.000000    494.000000     2.000000   \n",
       "50%    6.396000e+05  3.000000e+05   2008.000000   3879.000000     2.000000   \n",
       "75%    9.904800e+05  3.700000e+05   2009.000000   8818.000000     2.000000   \n",
       "max    1.298275e+06  4.000000e+06   2013.000000  18409.000000     2.000000   \n",
       "\n",
       "       CollegeCityID  CollegeCityTier  GraduationYear      English  \\\n",
       "count    3998.000000      3998.000000     3998.000000  3998.000000   \n",
       "mean     5156.851426         0.300400     2012.105803   501.649075   \n",
       "std      4802.261482         0.458489       31.857271   104.940021   \n",
       "min         2.000000         0.000000        0.000000   180.000000   \n",
       "25%       494.000000         0.000000     2012.000000   425.000000   \n",
       "50%      3879.000000         0.000000     2013.000000   500.000000   \n",
       "75%      8818.000000         1.000000     2014.000000   570.000000   \n",
       "max     18409.000000         1.000000     2017.000000   875.000000   \n",
       "\n",
       "           Logical        Quant  ComputerProgramming  ElectronicsAndSemicon  \\\n",
       "count  3998.000000  3998.000000          3998.000000            3998.000000   \n",
       "mean    501.598799   513.378189           353.102801              95.328414   \n",
       "std      86.783297   122.302332           205.355519             158.241218   \n",
       "min     195.000000   120.000000            -1.000000              -1.000000   \n",
       "25%     445.000000   430.000000           295.000000              -1.000000   \n",
       "50%     505.000000   515.000000           415.000000              -1.000000   \n",
       "75%     565.000000   595.000000           495.000000             233.000000   \n",
       "max     795.000000   900.000000           840.000000             612.000000   \n",
       "\n",
       "       ComputerScience  MechanicalEngg  ElectricalEngg  TelecomEngg  \\\n",
       "count      3998.000000     3998.000000     3998.000000  3998.000000   \n",
       "mean         90.742371       22.974737       16.478739    31.851176   \n",
       "std         175.273083       98.123311       87.585634   104.852845   \n",
       "min          -1.000000       -1.000000       -1.000000    -1.000000   \n",
       "25%          -1.000000       -1.000000       -1.000000    -1.000000   \n",
       "50%          -1.000000       -1.000000       -1.000000    -1.000000   \n",
       "75%          -1.000000       -1.000000       -1.000000    -1.000000   \n",
       "max         715.000000      623.000000      676.000000   548.000000   \n",
       "\n",
       "         CivilEngg  \n",
       "count  3998.000000  \n",
       "mean      2.683842  \n",
       "std      36.658505  \n",
       "min      -1.000000  \n",
       "25%      -1.000000  \n",
       "50%      -1.000000  \n",
       "75%      -1.000000  \n",
       "max     516.000000  "
      ]
     },
     "execution_count": 13,
     "metadata": {},
     "output_type": "execute_result"
    }
   ],
   "source": [
    "minds.describe(include='int64')"
   ]
  },
  {
   "cell_type": "code",
   "execution_count": 19,
   "metadata": {},
   "outputs": [
    {
     "name": "stdout",
     "output_type": "stream",
     "text": [
      "<class 'pandas.core.frame.DataFrame'>\n",
      "RangeIndex: 3998 entries, 0 to 3997\n",
      "Data columns (total 39 columns):\n",
      " #   Column                 Non-Null Count  Dtype         \n",
      "---  ------                 --------------  -----         \n",
      " 0   Unnamed: 0             3998 non-null   object        \n",
      " 1   ID                     3998 non-null   int64         \n",
      " 2   Salary                 3998 non-null   int64         \n",
      " 3   DOJ                    3998 non-null   datetime64[ns]\n",
      " 4   DOL                    3998 non-null   object        \n",
      " 5   Designation            3998 non-null   object        \n",
      " 6   JobCity                3998 non-null   object        \n",
      " 7   Gender                 3998 non-null   object        \n",
      " 8   DOB                    3998 non-null   datetime64[ns]\n",
      " 9   10percentage           3998 non-null   float64       \n",
      " 10  10board                3998 non-null   object        \n",
      " 11  12graduation           3998 non-null   int64         \n",
      " 12  12percentage           3998 non-null   float64       \n",
      " 13  12board                3998 non-null   object        \n",
      " 14  CollegeID              3998 non-null   int64         \n",
      " 15  CollegeTier            3998 non-null   int64         \n",
      " 16  Degree                 3998 non-null   object        \n",
      " 17  Specialization         3998 non-null   object        \n",
      " 18  collegeGPA             3998 non-null   float64       \n",
      " 19  CollegeCityID          3998 non-null   int64         \n",
      " 20  CollegeCityTier        3998 non-null   int64         \n",
      " 21  CollegeState           3998 non-null   object        \n",
      " 22  GraduationYear         3998 non-null   int64         \n",
      " 23  English                3998 non-null   int64         \n",
      " 24  Logical                3998 non-null   int64         \n",
      " 25  Quant                  3998 non-null   int64         \n",
      " 26  Domain                 3998 non-null   float64       \n",
      " 27  ComputerProgramming    3998 non-null   int64         \n",
      " 28  ElectronicsAndSemicon  3998 non-null   int64         \n",
      " 29  ComputerScience        3998 non-null   int64         \n",
      " 30  MechanicalEngg         3998 non-null   int64         \n",
      " 31  ElectricalEngg         3998 non-null   int64         \n",
      " 32  TelecomEngg            3998 non-null   int64         \n",
      " 33  CivilEngg              3998 non-null   int64         \n",
      " 34  conscientiousness      3998 non-null   float64       \n",
      " 35  agreeableness          3998 non-null   float64       \n",
      " 36  extraversion           3998 non-null   float64       \n",
      " 37  nueroticism            3998 non-null   float64       \n",
      " 38  openess_to_experience  3998 non-null   float64       \n",
      "dtypes: datetime64[ns](2), float64(9), int64(18), object(10)\n",
      "memory usage: 1.2+ MB\n"
     ]
    }
   ],
   "source": [
    "minds.info()"
   ]
  },
  {
   "cell_type": "code",
   "execution_count": 7,
   "metadata": {},
   "outputs": [
    {
     "data": {
      "text/plain": [
       "software engineer          539\n",
       "software developer         265\n",
       "system engineer            205\n",
       "programmer analyst         139\n",
       "systems engineer           118\n",
       "                          ... \n",
       "program analyst trainee      1\n",
       "junior system analyst        1\n",
       "executive engg               1\n",
       "cad drafter                  1\n",
       "senior project engineer      1\n",
       "Name: Designation, Length: 419, dtype: int64"
      ]
     },
     "execution_count": 7,
     "metadata": {},
     "output_type": "execute_result"
    }
   ],
   "source": [
    "minds['Designation'].value_counts()"
   ]
  },
  {
   "cell_type": "code",
   "execution_count": 17,
   "metadata": {},
   "outputs": [
    {
     "data": {
      "text/plain": [
       "<matplotlib.axes._subplots.AxesSubplot at 0x25f8b52f708>"
      ]
     },
     "execution_count": 17,
     "metadata": {},
     "output_type": "execute_result"
    },
    {
     "data": {
      "image/png": "[encoded data removed]",
      "text/plain": [
       "<Figure size 432x288 with 1 Axes>"
      ]
     },
     "metadata": {
      "needs_background": "light"
     },
     "output_type": "display_data"
    }
   ],
   "source": [
    "\n",
    "sbn.countplot(minds['Designation'])\n"
   ]
  },
  {
   "cell_type": "code",
   "execution_count": 10,
   "metadata": {},
   "outputs": [
    {
     "data": {
      "text/plain": [
       "B.Tech/B.E.      3700\n",
       "MCA               243\n",
       "M.Tech./M.E.       53\n",
       "M.Sc. (Tech.)       2\n",
       "Name: Degree, dtype: int64"
      ]
     },
     "execution_count": 10,
     "metadata": {},
     "output_type": "execute_result"
    }
   ],
   "source": [
    "minds['Degree'].value_counts()"
   ]
  },
  {
   "cell_type": "code",
   "execution_count": 16,
   "metadata": {},
   "outputs": [
    {
     "data": {
      "text/plain": [
       "<matplotlib.axes._subplots.AxesSubplot at 0x25f8b502948>"
      ]
     },
     "execution_count": 16,
     "metadata": {},
     "output_type": "execute_result"
    },
    {
     "data": {
      "image/png": "[encoded data removed]",
      "text/plain": [
       "<Figure size 432x288 with 1 Axes>"
      ]
     },
     "metadata": {
      "needs_background": "light"
     },
     "output_type": "display_data"
    }
   ],
   "source": [
    "\n",
    "sbn.countplot(minds['Degree'])\n"
   ]
  },
  {
   "cell_type": "code",
   "execution_count": 23,
   "metadata": {},
   "outputs": [
    {
     "data": {
      "text/plain": [
       "electronics and communication engineering      880\n",
       "computer science & engineering                 744\n",
       "information technology                         660\n",
       "computer engineering                           600\n",
       "computer application                           244\n",
       "mechanical engineering                         201\n",
       "electronics and electrical engineering         196\n",
       "electronics & telecommunications               121\n",
       "electrical engineering                          82\n",
       "electronics & instrumentation eng               32\n",
       "civil engineering                               29\n",
       "information science engineering                 27\n",
       "electronics and instrumentation engineering     27\n",
       "instrumentation and control engineering         20\n",
       "electronics engineering                         19\n",
       "biotechnology                                   15\n",
       "other                                           13\n",
       "industrial & production engineering             10\n",
       "chemical engineering                             9\n",
       "applied electronics and instrumentation          9\n",
       "telecommunication engineering                    6\n",
       "computer science and technology                  6\n",
       "mechanical and automation                        5\n",
       "automobile/automotive engineering                5\n",
       "mechatronics                                     4\n",
       "instrumentation engineering                      4\n",
       "electronics and computer engineering             3\n",
       "aeronautical engineering                         3\n",
       "industrial engineering                           2\n",
       "information & communication technology           2\n",
       "computer science                                 2\n",
       "electrical and power engineering                 2\n",
       "biomedical engineering                           2\n",
       "metallurgical engineering                        2\n",
       "information science                              1\n",
       "embedded systems technology                      1\n",
       "mechanical & production engineering              1\n",
       "industrial & management engineering              1\n",
       "polymer technology                               1\n",
       "computer networking                              1\n",
       "computer and communication engineering           1\n",
       "internal combustion engine                       1\n",
       "control and instrumentation engineering          1\n",
       "electronics                                      1\n",
       "power systems and automation                     1\n",
       "ceramic engineering                              1\n",
       "Name: Specialization, dtype: int64"
      ]
     },
     "execution_count": 23,
     "metadata": {},
     "output_type": "execute_result"
    }
   ],
   "source": [
    "\n",
    "minds['Specialization'].value_counts()\n"
   ]
  },
  {
   "cell_type": "code",
   "execution_count": 11,
   "metadata": {},
   "outputs": [
    {
     "data": {
      "text/plain": [
       "Index(['Unnamed: 0', 'ID', 'Salary', 'DOJ', 'DOL', 'Designation', 'JobCity',\n",
       "       'Gender', 'DOB', '10percentage', '10board', '12graduation',\n",
       "       '12percentage', '12board', 'CollegeID', 'CollegeTier', 'Degree',\n",
       "       'Specialization', 'collegeGPA', 'CollegeCityID', 'CollegeCityTier',\n",
       "       'CollegeState', 'GraduationYear', 'English', 'Logical', 'Quant',\n",
       "       'Domain', 'ComputerProgramming', 'ElectronicsAndSemicon',\n",
       "       'ComputerScience', 'MechanicalEngg', 'ElectricalEngg', 'TelecomEngg',\n",
       "       'CivilEngg', 'conscientiousness', 'agreeableness', 'extraversion',\n",
       "       'nueroticism', 'openess_to_experience'],\n",
       "      dtype='object')"
      ]
     },
     "execution_count": 11,
     "metadata": {},
     "output_type": "execute_result"
    }
   ],
   "source": [
    "minds.columns\n"
   ]
  },
  {
   "cell_type": "code",
   "execution_count": 19,
   "metadata": {},
   "outputs": [
    {
     "data": {
      "text/plain": [
       "<matplotlib.axes._subplots.AxesSubplot at 0x25f8dc59a48>"
      ]
     },
     "execution_count": 19,
     "metadata": {},
     "output_type": "execute_result"
    },
    {
     "data": {
      "image/png": "[encoded data removed]",
      "text/plain": [
       "<Figure size 432x288 with 1 Axes>"
      ]
     },
     "metadata": {
      "needs_background": "light"
     },
     "output_type": "display_data"
    }
   ],
   "source": [
    "\n",
    "\n",
    "sbn.countplot(minds['Specialization'])"
   ]
  },
  {
   "cell_type": "code",
   "execution_count": 5,
   "metadata": {},
   "outputs": [
    {
     "data": {
      "text/plain": [
       "<matplotlib.axes._subplots.AxesSubplot at 0x25f8b54d688>"
      ]
     },
     "execution_count": 5,
     "metadata": {},
     "output_type": "execute_result"
    },
    {
     "data": {
      "image/png": "[encoded data removed]",
      "text/plain": [
       "<Figure size 432x288 with 1 Axes>"
      ]
     },
     "metadata": {
      "needs_background": "light"
     },
     "output_type": "display_data"
    }
   ],
   "source": [
    "sbn.countplot(minds['CollegeTier'])"
   ]
  },
  {
   "cell_type": "code",
   "execution_count": 20,
   "metadata": {},
   "outputs": [
    {
     "data": {
      "text/plain": [
       "<matplotlib.axes._subplots.AxesSubplot at 0x25f8db1cbc8>"
      ]
     },
     "execution_count": 20,
     "metadata": {},
     "output_type": "execute_result"
    },
    {
     "data": {
      "image/png": "[encoded data removed]",
      "text/plain": [
       "<Figure size 432x288 with 1 Axes>"
      ]
     },
     "metadata": {
      "needs_background": "light"
     },
     "output_type": "display_data"
    }
   ],
   "source": [
    "sbn.countplot(minds['CollegeCityTier'])"
   ]
  },
  {
   "cell_type": "code",
   "execution_count": null,
   "metadata": {},
   "outputs": [],
   "source": []
  }
 ],
 "metadata": {
  "kernelspec": {
   "display_name": "Python 3",
   "language": "python",
   "name": "python3"
  },
  "language_info": {
   "codemirror_mode": {
    "name": "ipython",
    "version": 3
   },
   "file_extension": ".py",
   "mimetype": "text/x-python",
   "name": "python",
   "nbconvert_exporter": "python",
   "pygments_lexer": "ipython3",
   "version": "3.7.6"
  }
 },
 "nbformat": 4,
 "nbformat_minor": 4
}
